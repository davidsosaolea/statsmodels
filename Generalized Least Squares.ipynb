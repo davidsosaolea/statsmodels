{
 "cells": [
  {
   "cell_type": "code",
   "execution_count": 18,
   "metadata": {},
   "outputs": [],
   "source": [
    "import statsmodels.api as sm\n",
    "import pandas as pd"
   ]
  },
  {
   "cell_type": "code",
   "execution_count": 3,
   "metadata": {},
   "outputs": [],
   "source": [
    "# Cargamos el conjunto de datos longley utilizando la función load del módulo datasets de statsmodels.\n",
    "# La opción as_pandas = False indica que queremos cargar los datos en un formato que no sea un DataFrame de pandas.\n",
    "data = sm.datasets.longley.load()\n",
    "\n",
    "# Añadimos una columna de unos (constantes) al conjunto de datos exógeno (predictores).\n",
    "# Esto es necesario para incluir el término independiente en nuestro modelo de regresión.\n",
    "data.exog = sm.add_constant(data.exog)"
   ]
  },
  {
   "cell_type": "code",
   "execution_count": 8,
   "metadata": {},
   "outputs": [
    {
     "name": "stdout",
     "output_type": "stream",
     "text": [
      "Datos exógenos (predictores):\n",
      "   const  GNPDEFL       GNP   UNEMP   ARMED       POP    YEAR\n",
      "0    1.0     83.0  234289.0  2356.0  1590.0  107608.0  1947.0\n",
      "1    1.0     88.5  259426.0  2325.0  1456.0  108632.0  1948.0\n",
      "2    1.0     88.2  258054.0  3682.0  1616.0  109773.0  1949.0\n",
      "3    1.0     89.5  284599.0  3351.0  1650.0  110929.0  1950.0\n",
      "4    1.0     96.2  328975.0  2099.0  3099.0  112075.0  1951.0\n",
      "Datos endógenos (variable de respuesta):\n",
      "0    60323.0\n",
      "1    61122.0\n",
      "2    60171.0\n",
      "3    61187.0\n",
      "4    63221.0\n",
      "Name: TOTEMP, dtype: float64\n"
     ]
    }
   ],
   "source": [
    "# Imprimir los primeros 5 elementos de los datos exógenos y endógenos\n",
    "print(\"Datos exógenos (predictores):\")\n",
    "print(data.exog[:5])\n",
    "print(\"Datos endógenos (variable de respuesta):\")\n",
    "print(data.endog[:5])\n"
   ]
  },
  {
   "cell_type": "markdown",
   "metadata": {},
   "source": [
    "La heterocedasticidad es un concepto estadístico que se refiere a la variabilidad desigual de los errores de un modelo de regresión a lo largo de los valores de la variable independiente. En otras palabras, la heterocedasticidad implica que la dispersión de los errores no es constante en todos los niveles de la variable explicativa.\n",
    "\n",
    "En un modelo de regresión lineal, se asume que la varianza de los errores es constante en todos los niveles de la variable independiente. Esto se conoce como homocedasticidad. Sin embargo, cuando hay heterocedasticidad, la varianza de los errores cambia a medida que varían los valores de la variable independiente.\n",
    "\n",
    "La presencia de heterocedasticidad puede tener implicaciones importantes para la validez de las inferencias estadísticas derivadas del modelo de regresión. Puede conducir a estimaciones sesgadas de los errores estándar, lo que afecta la precisión de las pruebas de hipótesis y la confianza en los intervalos de confianza. Además, puede afectar la eficiencia de los estimadores de los coeficientes de regresión.\n",
    "\n",
    "Existen pruebas estadísticas específicas, como la prueba de Breusch-Pagan o la prueba de White, que se utilizan para evaluar la presencia de heterocedasticidad en un modelo de regresión. Si se detecta heterocedasticidad, se pueden aplicar técnicas de corrección, como transformaciones de variables o el uso de modelos de regresión robustos que tienen en cuenta la heterocedasticidad."
   ]
  },
  {
   "cell_type": "code",
   "execution_count": 12,
   "metadata": {},
   "outputs": [],
   "source": [
    "# Ajustamos un modelo de mínimos cuadrados ordinarios (OLS) a los datos.\n",
    "# Utilizamos data.endog como la variable de respuesta (endógena) y data.exog como las variables predictoras (exógenas).\n",
    "# Luego, llamamos al método .fit() para ajustar el modelo a los datos.\n",
    "# Después, utilizamos .resid para obtener los residuos del modelo.\n",
    "ols_resid = sm.OLS(data.endog, data.exog).fit().resid"
   ]
  },
  {
   "cell_type": "code",
   "execution_count": 13,
   "metadata": {},
   "outputs": [
    {
     "data": {
      "text/plain": [
       "0     267.340030\n",
       "1     -94.013942\n",
       "2      46.287168\n",
       "3    -410.114622\n",
       "4     309.714591\n",
       "5    -249.311215\n",
       "6    -164.048956\n",
       "7     -13.180357\n",
       "8      14.304773\n",
       "9     455.394095\n",
       "10    -17.268927\n",
       "11    -39.055043\n",
       "12   -155.549974\n",
       "13    -85.671308\n",
       "14    341.931514\n",
       "15   -206.757825\n",
       "dtype: float64"
      ]
     },
     "execution_count": 13,
     "metadata": {},
     "output_type": "execute_result"
    }
   ],
   "source": [
    "ols_resid"
   ]
  },
  {
   "cell_type": "code",
   "execution_count": 20,
   "metadata": {},
   "outputs": [
    {
     "ename": "ValueError",
     "evalue": "Data must be 1-dimensional, got ndarray of shape (15, 2) instead",
     "output_type": "error",
     "traceback": [
      "\u001b[0;31m---------------------------------------------------------------------------\u001b[0m",
      "\u001b[0;31mValueError\u001b[0m                                Traceback (most recent call last)",
      "Cell \u001b[0;32mIn[20], line 7\u001b[0m\n\u001b[1;32m      4\u001b[0m ols_resid_array \u001b[38;5;241m=\u001b[39m np\u001b[38;5;241m.\u001b[39marray(ols_resid[:\u001b[38;5;241m-\u001b[39m\u001b[38;5;241m1\u001b[39m])\n\u001b[1;32m      6\u001b[0m \u001b[38;5;66;03m# Crear una serie de pandas con los residuos\u001b[39;00m\n\u001b[0;32m----> 7\u001b[0m ols_resid_exog \u001b[38;5;241m=\u001b[39m \u001b[43mpd\u001b[49m\u001b[38;5;241;43m.\u001b[39;49m\u001b[43mSeries\u001b[49m\u001b[43m(\u001b[49m\u001b[43msm\u001b[49m\u001b[38;5;241;43m.\u001b[39;49m\u001b[43madd_constant\u001b[49m\u001b[43m(\u001b[49m\u001b[43mols_resid_array\u001b[49m\u001b[43m)\u001b[49m\u001b[43m,\u001b[49m\u001b[43m \u001b[49m\u001b[43mindex\u001b[49m\u001b[38;5;241;43m=\u001b[39;49m\u001b[38;5;28;43mrange\u001b[39;49m\u001b[43m(\u001b[49m\u001b[38;5;28;43mlen\u001b[39;49m\u001b[43m(\u001b[49m\u001b[43mols_resid_array\u001b[49m\u001b[43m)\u001b[49m\u001b[43m)\u001b[49m\u001b[43m)\u001b[49m\n\u001b[1;32m      9\u001b[0m \u001b[38;5;66;03m# Ajustar el modelo OLS con los datos realineados\u001b[39;00m\n\u001b[1;32m     10\u001b[0m resid_fit \u001b[38;5;241m=\u001b[39m sm\u001b[38;5;241m.\u001b[39mOLS(ols_resid_endog, ols_resid_exog)\u001b[38;5;241m.\u001b[39mfit()\n",
      "File \u001b[0;32m/workspaces/statsmodels/venv/lib/python3.10/site-packages/pandas/core/series.py:584\u001b[0m, in \u001b[0;36mSeries.__init__\u001b[0;34m(self, data, index, dtype, name, copy, fastpath)\u001b[0m\n\u001b[1;32m    582\u001b[0m         data \u001b[38;5;241m=\u001b[39m data\u001b[38;5;241m.\u001b[39mcopy()\n\u001b[1;32m    583\u001b[0m \u001b[38;5;28;01melse\u001b[39;00m:\n\u001b[0;32m--> 584\u001b[0m     data \u001b[38;5;241m=\u001b[39m \u001b[43msanitize_array\u001b[49m\u001b[43m(\u001b[49m\u001b[43mdata\u001b[49m\u001b[43m,\u001b[49m\u001b[43m \u001b[49m\u001b[43mindex\u001b[49m\u001b[43m,\u001b[49m\u001b[43m \u001b[49m\u001b[43mdtype\u001b[49m\u001b[43m,\u001b[49m\u001b[43m \u001b[49m\u001b[43mcopy\u001b[49m\u001b[43m)\u001b[49m\n\u001b[1;32m    586\u001b[0m     manager \u001b[38;5;241m=\u001b[39m _get_option(\u001b[38;5;124m\"\u001b[39m\u001b[38;5;124mmode.data_manager\u001b[39m\u001b[38;5;124m\"\u001b[39m, silent\u001b[38;5;241m=\u001b[39m\u001b[38;5;28;01mTrue\u001b[39;00m)\n\u001b[1;32m    587\u001b[0m     \u001b[38;5;28;01mif\u001b[39;00m manager \u001b[38;5;241m==\u001b[39m \u001b[38;5;124m\"\u001b[39m\u001b[38;5;124mblock\u001b[39m\u001b[38;5;124m\"\u001b[39m:\n",
      "File \u001b[0;32m/workspaces/statsmodels/venv/lib/python3.10/site-packages/pandas/core/construction.py:656\u001b[0m, in \u001b[0;36msanitize_array\u001b[0;34m(data, index, dtype, copy, allow_2d)\u001b[0m\n\u001b[1;32m    653\u001b[0m             subarr \u001b[38;5;241m=\u001b[39m cast(np\u001b[38;5;241m.\u001b[39mndarray, subarr)\n\u001b[1;32m    654\u001b[0m             subarr \u001b[38;5;241m=\u001b[39m maybe_infer_to_datetimelike(subarr)\n\u001b[0;32m--> 656\u001b[0m subarr \u001b[38;5;241m=\u001b[39m \u001b[43m_sanitize_ndim\u001b[49m\u001b[43m(\u001b[49m\u001b[43msubarr\u001b[49m\u001b[43m,\u001b[49m\u001b[43m \u001b[49m\u001b[43mdata\u001b[49m\u001b[43m,\u001b[49m\u001b[43m \u001b[49m\u001b[43mdtype\u001b[49m\u001b[43m,\u001b[49m\u001b[43m \u001b[49m\u001b[43mindex\u001b[49m\u001b[43m,\u001b[49m\u001b[43m \u001b[49m\u001b[43mallow_2d\u001b[49m\u001b[38;5;241;43m=\u001b[39;49m\u001b[43mallow_2d\u001b[49m\u001b[43m)\u001b[49m\n\u001b[1;32m    658\u001b[0m \u001b[38;5;28;01mif\u001b[39;00m \u001b[38;5;28misinstance\u001b[39m(subarr, np\u001b[38;5;241m.\u001b[39mndarray):\n\u001b[1;32m    659\u001b[0m     \u001b[38;5;66;03m# at this point we should have dtype be None or subarr.dtype == dtype\u001b[39;00m\n\u001b[1;32m    660\u001b[0m     dtype \u001b[38;5;241m=\u001b[39m cast(np\u001b[38;5;241m.\u001b[39mdtype, dtype)\n",
      "File \u001b[0;32m/workspaces/statsmodels/venv/lib/python3.10/site-packages/pandas/core/construction.py:715\u001b[0m, in \u001b[0;36m_sanitize_ndim\u001b[0;34m(result, data, dtype, index, allow_2d)\u001b[0m\n\u001b[1;32m    713\u001b[0m     \u001b[38;5;28;01mif\u001b[39;00m allow_2d:\n\u001b[1;32m    714\u001b[0m         \u001b[38;5;28;01mreturn\u001b[39;00m result\n\u001b[0;32m--> 715\u001b[0m     \u001b[38;5;28;01mraise\u001b[39;00m \u001b[38;5;167;01mValueError\u001b[39;00m(\n\u001b[1;32m    716\u001b[0m         \u001b[38;5;124mf\u001b[39m\u001b[38;5;124m\"\u001b[39m\u001b[38;5;124mData must be 1-dimensional, got ndarray of shape \u001b[39m\u001b[38;5;132;01m{\u001b[39;00mdata\u001b[38;5;241m.\u001b[39mshape\u001b[38;5;132;01m}\u001b[39;00m\u001b[38;5;124m instead\u001b[39m\u001b[38;5;124m\"\u001b[39m\n\u001b[1;32m    717\u001b[0m     )\n\u001b[1;32m    718\u001b[0m \u001b[38;5;28;01mif\u001b[39;00m is_object_dtype(dtype) \u001b[38;5;129;01mand\u001b[39;00m \u001b[38;5;28misinstance\u001b[39m(dtype, ExtensionDtype):\n\u001b[1;32m    719\u001b[0m     \u001b[38;5;66;03m# i.e. NumpyEADtype(\"O\")\u001b[39;00m\n\u001b[1;32m    721\u001b[0m     result \u001b[38;5;241m=\u001b[39m com\u001b[38;5;241m.\u001b[39masarray_tuplesafe(data, dtype\u001b[38;5;241m=\u001b[39mnp\u001b[38;5;241m.\u001b[39mdtype(\u001b[38;5;124m\"\u001b[39m\u001b[38;5;124mobject\u001b[39m\u001b[38;5;124m\"\u001b[39m))\n",
      "\u001b[0;31mValueError\u001b[0m: Data must be 1-dimensional, got ndarray of shape (15, 2) instead"
     ]
    }
   ],
   "source": [
    "import numpy as np\n",
    "\n",
    "# Convertir los residuos en un array de numpy\n",
    "ols_resid_array = np.array(ols_resid[:-1])\n",
    "\n",
    "# Crear una serie de pandas con los residuos\n",
    "ols_resid_exog = pd.Series(sm.add_constant(ols_resid_array), index=range(len(ols_resid_array)))\n",
    "\n",
    "# Ajustar el modelo OLS con los datos realineados\n",
    "resid_fit = sm.OLS(ols_resid_endog, ols_resid_exog).fit()\n",
    "\n"
   ]
  }
 ],
 "metadata": {
  "kernelspec": {
   "display_name": "venv",
   "language": "python",
   "name": "python3"
  },
  "language_info": {
   "codemirror_mode": {
    "name": "ipython",
    "version": 3
   },
   "file_extension": ".py",
   "mimetype": "text/x-python",
   "name": "python",
   "nbconvert_exporter": "python",
   "pygments_lexer": "ipython3",
   "version": "3.10.13"
  }
 },
 "nbformat": 4,
 "nbformat_minor": 2
}
