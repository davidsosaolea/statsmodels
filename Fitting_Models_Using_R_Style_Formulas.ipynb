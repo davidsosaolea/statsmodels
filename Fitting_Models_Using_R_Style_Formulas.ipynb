{
 "cells": [
  {
   "cell_type": "code",
   "execution_count": 1,
   "metadata": {},
   "outputs": [],
   "source": [
    "import statsmodels.api as sm\n",
    "import statsmodels.formula.api as smf\n",
    "import numpy as np\n",
    "import pandas as pd"
   ]
  },
  {
   "cell_type": "code",
   "execution_count": 5,
   "metadata": {},
   "outputs": [],
   "source": [
    "# Cargar el conjunto de datos \"Guerry\" del paquete \"HistData\" y seleccionar las columnas Lottery, Literacy, Wealth y Region\n",
    "df = sm.datasets.get_rdataset(\"Guerry\", \"HistData\").data\n",
    "df = df[[\"Lottery\", \"Literacy\", \"Wealth\", \"Region\"]].dropna()"
   ]
  },
  {
   "cell_type": "code",
   "execution_count": 6,
   "metadata": {},
   "outputs": [
    {
     "name": "stdout",
     "output_type": "stream",
     "text": [
      "                            OLS Regression Results                            \n",
      "==============================================================================\n",
      "Dep. Variable:                Lottery   R-squared:                       0.338\n",
      "Model:                            OLS   Adj. R-squared:                  0.287\n",
      "Method:                 Least Squares   F-statistic:                     6.636\n",
      "Date:                Sun, 25 Feb 2024   Prob (F-statistic):           1.07e-05\n",
      "Time:                        17:06:00   Log-Likelihood:                -375.30\n",
      "No. Observations:                  85   AIC:                             764.6\n",
      "Df Residuals:                      78   BIC:                             781.7\n",
      "Df Model:                           6                                         \n",
      "Covariance Type:            nonrobust                                         \n",
      "===============================================================================\n",
      "                  coef    std err          t      P>|t|      [0.025      0.975]\n",
      "-------------------------------------------------------------------------------\n",
      "Intercept      38.6517      9.456      4.087      0.000      19.826      57.478\n",
      "Region[T.E]   -15.4278      9.727     -1.586      0.117     -34.793       3.938\n",
      "Region[T.N]   -10.0170      9.260     -1.082      0.283     -28.453       8.419\n",
      "Region[T.S]    -4.5483      7.279     -0.625      0.534     -19.039       9.943\n",
      "Region[T.W]   -10.0913      7.196     -1.402      0.165     -24.418       4.235\n",
      "Literacy       -0.1858      0.210     -0.886      0.378      -0.603       0.232\n",
      "Wealth          0.4515      0.103      4.390      0.000       0.247       0.656\n",
      "==============================================================================\n",
      "Omnibus:                        3.049   Durbin-Watson:                   1.785\n",
      "Prob(Omnibus):                  0.218   Jarque-Bera (JB):                2.694\n",
      "Skew:                          -0.340   Prob(JB):                        0.260\n",
      "Kurtosis:                       2.454   Cond. No.                         371.\n",
      "==============================================================================\n",
      "\n",
      "Notes:\n",
      "[1] Standard Errors assume that the covariance matrix of the errors is correctly specified.\n"
     ]
    }
   ],
   "source": [
    "# Ajustar un modelo de regresión lineal usando OLS (Mínimos cuadrados ordinarios)\n",
    "res = smf.ols(formula=\"Lottery ~ Literacy + Wealth + Region\", data=df).fit()\n",
    "\n",
    "# Imprimir un resumen del ajuste del modelo\n",
    "print(res.summary())"
   ]
  },
  {
   "cell_type": "markdown",
   "metadata": {},
   "source": [
    "# categorical variables"
   ]
  },
  {
   "cell_type": "code",
   "execution_count": 8,
   "metadata": {},
   "outputs": [
    {
     "name": "stdout",
     "output_type": "stream",
     "text": [
      "                            OLS Regression Results                            \n",
      "==============================================================================\n",
      "Dep. Variable:                Lottery   R-squared:                       0.338\n",
      "Model:                            OLS   Adj. R-squared:                  0.287\n",
      "Method:                 Least Squares   F-statistic:                     6.636\n",
      "Date:                Sun, 25 Feb 2024   Prob (F-statistic):           1.07e-05\n",
      "Time:                        17:08:04   Log-Likelihood:                -375.30\n",
      "No. Observations:                  85   AIC:                             764.6\n",
      "Df Residuals:                      78   BIC:                             781.7\n",
      "Df Model:                           6                                         \n",
      "Covariance Type:            nonrobust                                         \n",
      "==================================================================================\n",
      "                     coef    std err          t      P>|t|      [0.025      0.975]\n",
      "----------------------------------------------------------------------------------\n",
      "Intercept         38.6517      9.456      4.087      0.000      19.826      57.478\n",
      "C(Region)[T.E]   -15.4278      9.727     -1.586      0.117     -34.793       3.938\n",
      "C(Region)[T.N]   -10.0170      9.260     -1.082      0.283     -28.453       8.419\n",
      "C(Region)[T.S]    -4.5483      7.279     -0.625      0.534     -19.039       9.943\n",
      "C(Region)[T.W]   -10.0913      7.196     -1.402      0.165     -24.418       4.235\n",
      "Literacy          -0.1858      0.210     -0.886      0.378      -0.603       0.232\n",
      "Wealth             0.4515      0.103      4.390      0.000       0.247       0.656\n",
      "==============================================================================\n",
      "Omnibus:                        3.049   Durbin-Watson:                   1.785\n",
      "Prob(Omnibus):                  0.218   Jarque-Bera (JB):                2.694\n",
      "Skew:                          -0.340   Prob(JB):                        0.260\n",
      "Kurtosis:                       2.454   Cond. No.                         371.\n",
      "==============================================================================\n",
      "\n",
      "Notes:\n",
      "[1] Standard Errors assume that the covariance matrix of the errors is correctly specified.\n"
     ]
    }
   ],
   "source": [
    "# Ajustar un modelo de regresión lineal usando OLS (Mínimos cuadrados ordinarios)\n",
    "res = smf.ols(formula=\"Lottery ~ Literacy + Wealth + C(Region)\", data=df).fit()\n",
    "\n",
    "# Imprimir un resumen del ajuste del modelo\n",
    "print(res.summary())"
   ]
  },
  {
   "cell_type": "code",
   "execution_count": 9,
   "metadata": {},
   "outputs": [
    {
     "name": "stdout",
     "output_type": "stream",
     "text": [
      "                            OLS Regression Results                            \n",
      "==============================================================================\n",
      "Dep. Variable:                Lottery   R-squared:                       0.338\n",
      "Model:                            OLS   Adj. R-squared:                  0.287\n",
      "Method:                 Least Squares   F-statistic:                     6.636\n",
      "Date:                Sun, 25 Feb 2024   Prob (F-statistic):           1.07e-05\n",
      "Time:                        17:09:16   Log-Likelihood:                -375.30\n",
      "No. Observations:                  85   AIC:                             764.6\n",
      "Df Residuals:                      78   BIC:                             781.7\n",
      "Df Model:                           6                                         \n",
      "Covariance Type:            nonrobust                                         \n",
      "================================================================================\n",
      "                   coef    std err          t      P>|t|      [0.025      0.975]\n",
      "--------------------------------------------------------------------------------\n",
      "C(Region)[C]    38.6517      9.456      4.087      0.000      19.826      57.478\n",
      "C(Region)[E]    23.2239     14.931      1.555      0.124      -6.501      52.949\n",
      "C(Region)[N]    28.6347     13.127      2.181      0.032       2.501      54.769\n",
      "C(Region)[S]    34.1034     10.370      3.289      0.002      13.459      54.748\n",
      "C(Region)[W]    28.5604     10.018      2.851      0.006       8.616      48.505\n",
      "Literacy        -0.1858      0.210     -0.886      0.378      -0.603       0.232\n",
      "Wealth           0.4515      0.103      4.390      0.000       0.247       0.656\n",
      "==============================================================================\n",
      "Omnibus:                        3.049   Durbin-Watson:                   1.785\n",
      "Prob(Omnibus):                  0.218   Jarque-Bera (JB):                2.694\n",
      "Skew:                          -0.340   Prob(JB):                        0.260\n",
      "Kurtosis:                       2.454   Cond. No.                         653.\n",
      "==============================================================================\n",
      "\n",
      "Notes:\n",
      "[1] Standard Errors assume that the covariance matrix of the errors is correctly specified.\n"
     ]
    }
   ],
   "source": [
    "# Ajustar un modelo de regresión lineal usando OLS (Mínimos cuadrados ordinarios) \n",
    "# remueve la costante\n",
    "res = smf.ols(formula=\"Lottery ~ Literacy + Wealth + C(Region) - 1\", data=df).fit()\n",
    "\n",
    "# Imprimir un resumen del ajuste del modelo\n",
    "print(res.summary())"
   ]
  },
  {
   "cell_type": "code",
   "execution_count": 10,
   "metadata": {},
   "outputs": [
    {
     "name": "stdout",
     "output_type": "stream",
     "text": [
      "                            OLS Regression Results                            \n",
      "==============================================================================\n",
      "Dep. Variable:                Lottery   R-squared:                       0.229\n",
      "Model:                            OLS   Adj. R-squared:                  0.181\n",
      "Method:                 Least Squares   F-statistic:                     4.700\n",
      "Date:                Sun, 25 Feb 2024   Prob (F-statistic):           0.000827\n",
      "Time:                        17:10:46   Log-Likelihood:                -381.76\n",
      "No. Observations:                  85   AIC:                             775.5\n",
      "Df Residuals:                      79   BIC:                             790.2\n",
      "Df Model:                           5                                         \n",
      "Covariance Type:            nonrobust                                         \n",
      "===================================================================================\n",
      "                      coef    std err          t      P>|t|      [0.025      0.975]\n",
      "-----------------------------------------------------------------------------------\n",
      "C(Region)[C]       47.8130      5.909      8.092      0.000      36.051      59.575\n",
      "C(Region)[E]       15.9705      8.641      1.848      0.068      -1.229      33.170\n",
      "C(Region)[N]       20.1870      6.181      3.266      0.002       7.885      32.489\n",
      "C(Region)[S]       38.9565      6.387      6.099      0.000      26.243      51.670\n",
      "C(Region)[W]       36.7219      6.316      5.814      0.000      24.151      49.293\n",
      "Literacy:Wealth     0.0070      0.002      2.989      0.004       0.002       0.012\n",
      "==============================================================================\n",
      "Omnibus:                        8.998   Durbin-Watson:                   1.800\n",
      "Prob(Omnibus):                  0.011   Jarque-Bera (JB):                3.891\n",
      "Skew:                          -0.251   Prob(JB):                        0.143\n",
      "Kurtosis:                       2.079   Cond. No.                     8.68e+03\n",
      "==============================================================================\n",
      "\n",
      "Notes:\n",
      "[1] Standard Errors assume that the covariance matrix of the errors is correctly specified.\n",
      "[2] The condition number is large, 8.68e+03. This might indicate that there are\n",
      "strong multicollinearity or other numerical problems.\n"
     ]
    }
   ],
   "source": [
    "# interactions\n",
    "res = smf.ols(formula=\"Lottery ~ Literacy : Wealth + C(Region)\", data=df).fit()\n",
    "\n",
    "# Imprimir un resumen del ajuste del modelo\n",
    "print(res.summary())"
   ]
  },
  {
   "cell_type": "code",
   "execution_count": 11,
   "metadata": {},
   "outputs": [
    {
     "name": "stdout",
     "output_type": "stream",
     "text": [
      "                            OLS Regression Results                            \n",
      "==============================================================================\n",
      "Dep. Variable:                Lottery   R-squared:                       0.338\n",
      "Model:                            OLS   Adj. R-squared:                  0.278\n",
      "Method:                 Least Squares   F-statistic:                     5.615\n",
      "Date:                Sun, 25 Feb 2024   Prob (F-statistic):           2.96e-05\n",
      "Time:                        17:11:05   Log-Likelihood:                -375.30\n",
      "No. Observations:                  85   AIC:                             766.6\n",
      "Df Residuals:                      77   BIC:                             786.1\n",
      "Df Model:                           7                                         \n",
      "Covariance Type:            nonrobust                                         \n",
      "===================================================================================\n",
      "                      coef    std err          t      P>|t|      [0.025      0.975]\n",
      "-----------------------------------------------------------------------------------\n",
      "C(Region)[C]       39.0993     17.470      2.238      0.028       4.312      73.887\n",
      "C(Region)[E]       23.6542     20.595      1.149      0.254     -17.355      64.663\n",
      "C(Region)[N]       29.1265     20.823      1.399      0.166     -12.338      70.591\n",
      "C(Region)[S]       34.5239     17.272      1.999      0.049       0.132      68.916\n",
      "C(Region)[W]       28.9872     17.226      1.683      0.096      -5.314      63.288\n",
      "Literacy           -0.1960      0.396     -0.495      0.622      -0.984       0.592\n",
      "Wealth              0.4432      0.290      1.530      0.130      -0.133       1.020\n",
      "Literacy:Wealth     0.0002      0.007      0.031      0.976      -0.013       0.013\n",
      "==============================================================================\n",
      "Omnibus:                        3.076   Durbin-Watson:                   1.784\n",
      "Prob(Omnibus):                  0.215   Jarque-Bera (JB):                2.709\n",
      "Skew:                          -0.341   Prob(JB):                        0.258\n",
      "Kurtosis:                       2.452   Cond. No.                     3.55e+04\n",
      "==============================================================================\n",
      "\n",
      "Notes:\n",
      "[1] Standard Errors assume that the covariance matrix of the errors is correctly specified.\n",
      "[2] The condition number is large, 3.55e+04. This might indicate that there are\n",
      "strong multicollinearity or other numerical problems.\n"
     ]
    }
   ],
   "source": [
    "# interactions\n",
    "# quivalente a A*B = A + B + A:B\n",
    "res = smf.ols(formula=\"Lottery ~ Literacy * Wealth + C(Region)\", data=df).fit()\n",
    "\n",
    "# Imprimir un resumen del ajuste del modelo\n",
    "print(res.summary())"
   ]
  }
 ],
 "metadata": {
  "kernelspec": {
   "display_name": "venv",
   "language": "python",
   "name": "python3"
  },
  "language_info": {
   "codemirror_mode": {
    "name": "ipython",
    "version": 3
   },
   "file_extension": ".py",
   "mimetype": "text/x-python",
   "name": "python",
   "nbconvert_exporter": "python",
   "pygments_lexer": "ipython3",
   "version": "3.10.6"
  }
 },
 "nbformat": 4,
 "nbformat_minor": 2
}
